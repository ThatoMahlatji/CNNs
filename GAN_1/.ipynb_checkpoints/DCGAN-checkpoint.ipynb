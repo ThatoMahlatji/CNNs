{
 "cells": [
  {
   "cell_type": "code",
   "execution_count": null,
   "id": "97b6c922-ead0-41f8-84eb-1d21c09872a2",
   "metadata": {},
   "outputs": [],
   "source": []
  },
  {
   "cell_type": "markdown",
   "id": "d25db650-9d22-4ff8-860d-c1d2e3f5c89c",
   "metadata": {},
   "source": [
    "Import Tensorflow and other libraries"
   ]
  },
  {
   "cell_type": "code",
   "execution_count": 3,
   "id": "a129cf3f-d3d6-4f98-8e01-b1d4a99daed7",
   "metadata": {},
   "outputs": [],
   "source": [
    "import tensorflow as tf\n",
    "import glob\n",
    "import imageio\n",
    "import matplotlib.pyplot as plt\n",
    "import numpy as np\n",
    "import os\n",
    "import PIL\n",
    "from tensorflow.keras import layers\n",
    "import time\n",
    "from IPython import display"
   ]
  },
  {
   "cell_type": "markdown",
   "id": "404ce968-0172-4901-8e2d-686046459b5c",
   "metadata": {},
   "source": [
    "Download MNIST Dataset"
   ]
  },
  {
   "cell_type": "code",
   "execution_count": 4,
   "id": "15703426-5ba8-4d81-ba80-222c205dc23b",
   "metadata": {},
   "outputs": [],
   "source": [
    "(train_images, train_labels), (_, _) = tf.keras.datasets.mnist.load_data()"
   ]
  },
  {
   "cell_type": "code",
   "execution_count": 5,
   "id": "364ff92d-4e32-49d9-83b7-e09250b70545",
   "metadata": {},
   "outputs": [
    {
     "name": "stdout",
     "output_type": "stream",
     "text": [
      "Length of train images =  60000\n",
      "Length of train labels =  60000\n"
     ]
    }
   ],
   "source": [
    "print(\"Length of train images = \", len(train_images))\n",
    "print(\"Length of train labels = \", len(train_labels))"
   ]
  },
  {
   "cell_type": "code",
   "execution_count": 6,
   "id": "5f7d7bf6-0127-4731-9e07-66e4ebc604de",
   "metadata": {},
   "outputs": [
    {
     "data": {
      "text/plain": [
       "(60000, 28, 28)"
      ]
     },
     "execution_count": 6,
     "metadata": {},
     "output_type": "execute_result"
    }
   ],
   "source": [
    "train_images.shape"
   ]
  },
  {
   "cell_type": "code",
   "execution_count": 7,
   "id": "ad1a6446-d236-45a7-a44f-1eb03d6549ea",
   "metadata": {},
   "outputs": [],
   "source": [
    "train_images = train_images.reshape(train_images.shape[0], 28, 28, 1).astype('float32')"
   ]
  },
  {
   "cell_type": "code",
   "execution_count": 8,
   "id": "a15eccc3-37ff-49b2-bd1b-5225148f4722",
   "metadata": {},
   "outputs": [
    {
     "data": {
      "text/plain": [
       "(60000, 28, 28, 1)"
      ]
     },
     "execution_count": 8,
     "metadata": {},
     "output_type": "execute_result"
    }
   ],
   "source": [
    "train_images.shape"
   ]
  },
  {
   "cell_type": "code",
   "execution_count": null,
   "id": "b2cb2446-c9e5-45ec-a4d1-1e34b06ea9fe",
   "metadata": {},
   "outputs": [],
   "source": []
  }
 ],
 "metadata": {
  "kernelspec": {
   "display_name": "Python 3 (ipykernel)",
   "language": "python",
   "name": "python3"
  },
  "language_info": {
   "codemirror_mode": {
    "name": "ipython",
    "version": 3
   },
   "file_extension": ".py",
   "mimetype": "text/x-python",
   "name": "python",
   "nbconvert_exporter": "python",
   "pygments_lexer": "ipython3",
   "version": "3.11.4"
  }
 },
 "nbformat": 4,
 "nbformat_minor": 5
}
