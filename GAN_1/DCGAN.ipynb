{
 "cells": [
  {
   "cell_type": "markdown",
   "id": "33d88214-a03a-4ce7-ae03-bbd7df950d53",
   "metadata": {},
   "source": [
    "## Deep Convolutional Generative Adversarial Networks (DCGANs)"
   ]
  },
  {
   "cell_type": "markdown",
   "id": "7fafaa95-095a-4833-a7df-c73d11215ef9",
   "metadata": {},
   "source": [
    "Reference: https://www.tensorflow.org/tutorials/generative/dcgan"
   ]
  },
  {
   "cell_type": "markdown",
   "id": "32bb5bb9-452c-4c95-9210-25b0dd0c7e00",
   "metadata": {},
   "source": [
    "Deep Convolutional Generative Adversarial Networks (DCGANs) combine the power of deep convolutional neural networks (CNNs) with adversarial training to generate high-quality images from random noise. DCGANs have applications in image synthesis, style transfer, and data augmentation. In this tutorial, we explore DCGAN architecture and implementation, focusing on the popular MNIST dataset for digit generation."
   ]
  },
  {
   "cell_type": "code",
   "execution_count": null,
   "id": "123e663b-6af8-4bae-956b-8d631c449655",
   "metadata": {},
   "outputs": [],
   "source": []
  },
  {
   "cell_type": "markdown",
   "id": "d25db650-9d22-4ff8-860d-c1d2e3f5c89c",
   "metadata": {},
   "source": [
    "Import Tensorflow and other libraries"
   ]
  },
  {
   "cell_type": "code",
   "execution_count": 3,
   "id": "a129cf3f-d3d6-4f98-8e01-b1d4a99daed7",
   "metadata": {},
   "outputs": [],
   "source": [
    "import tensorflow as tf\n",
    "import glob\n",
    "import imageio\n",
    "import matplotlib.pyplot as plt\n",
    "import numpy as np\n",
    "import os\n",
    "import PIL\n",
    "from tensorflow.keras import layers\n",
    "import time\n",
    "from IPython import display"
   ]
  },
  {
   "cell_type": "code",
   "execution_count": 5,
   "id": "724fa96f-5036-4418-84d5-329459e6ad5c",
   "metadata": {},
   "outputs": [
    {
     "name": "stdout",
     "output_type": "stream",
     "text": [
      "Found a GPU with the name: PhysicalDevice(name='/physical_device:GPU:0', device_type='GPU')\n"
     ]
    }
   ],
   "source": [
    "gpus = tf.config.list_physical_devices(\"GPU\")\n",
    "if gpus:\n",
    "    for gpu in gpus:\n",
    "        print(\"Found a GPU with the name:\", gpu)\n",
    "else:\n",
    "    print(\"Failed to detect a GPU.\")"
   ]
  },
  {
   "cell_type": "code",
   "execution_count": null,
   "id": "bf5f559a-de6f-4c20-9f1e-151e738e1720",
   "metadata": {},
   "outputs": [],
   "source": []
  },
  {
   "cell_type": "code",
   "execution_count": null,
   "id": "545ee2fd-b0cb-493c-b581-af898d66a13f",
   "metadata": {},
   "outputs": [],
   "source": []
  },
  {
   "cell_type": "code",
   "execution_count": null,
   "id": "9b68b07f-26a7-4a02-941a-aac51c27f8b3",
   "metadata": {},
   "outputs": [],
   "source": []
  },
  {
   "cell_type": "markdown",
   "id": "404ce968-0172-4901-8e2d-686046459b5c",
   "metadata": {},
   "source": [
    "Download MNIST Dataset"
   ]
  },
  {
   "cell_type": "code",
   "execution_count": 6,
   "id": "15703426-5ba8-4d81-ba80-222c205dc23b",
   "metadata": {},
   "outputs": [],
   "source": [
    "(train_images, train_labels), (_, _) = tf.keras.datasets.mnist.load_data()"
   ]
  },
  {
   "cell_type": "code",
   "execution_count": 7,
   "id": "364ff92d-4e32-49d9-83b7-e09250b70545",
   "metadata": {},
   "outputs": [
    {
     "name": "stdout",
     "output_type": "stream",
     "text": [
      "Length of train images =  60000\n",
      "Length of train labels =  60000\n",
      "Train_mages shape =  (60000, 28, 28)\n",
      "Data type =  uint8\n"
     ]
    }
   ],
   "source": [
    "print(\"Length of train images = \", len(train_images))\n",
    "print(\"Length of train labels = \", len(train_labels))\n",
    "print(\"Train_mages shape = \", train_images.shape)\n",
    "print(\"Data type = \", train_images.dtype)"
   ]
  },
  {
   "cell_type": "markdown",
   "id": "4ffda452-94a2-44aa-8a75-d89055307bea",
   "metadata": {},
   "source": [
    "Convolutional neural networks (CNNs) typically expect input data in the shape of [batch_size, height, width, channels]. Reshaping allows to rearrange the dimensions of the dataset to match the required input shape."
   ]
  },
  {
   "cell_type": "code",
   "execution_count": 8,
   "id": "ad1a6446-d236-45a7-a44f-1eb03d6549ea",
   "metadata": {},
   "outputs": [
    {
     "name": "stdout",
     "output_type": "stream",
     "text": [
      "Train_mages new shape =  (60000, 28, 28, 1)\n",
      "Data type =  uint8\n"
     ]
    }
   ],
   "source": [
    "train_images = train_images.reshape(train_images.shape[0], 28, 28, 1) #.astype('float32')\n",
    "print(\"Train_mages new shape = \", train_images.shape)\n",
    "print(\"Data type = \", train_images.dtype)"
   ]
  },
  {
   "cell_type": "markdown",
   "id": "d659df66-2e60-49c9-8830-50be3bb6779c",
   "metadata": {},
   "source": [
    " BUFFER_SIZE typically refers to the number of elements (samples) from the dataset that should be buffered (or shuffled) at a time. When you're dealing with large datasets that cannot fit entirely into memory, you can't shuffle the entire dataset at once. Instead, you shuffle a buffer of elements. Setting the BUFFER_SIZE parameter controls the size of this buffer. A larger buffer size allows for more effective shuffling but requires more memory.\n",
    "\n",
    " BATCH_SIZE refers to the number of samples that are propagated through the neural network in a single forward/backward pass. In other words, it's the number of samples processed before the model's parameters are updated. Using mini-batches instead of processing the entire dataset at once helps in reducing the memory usage and allows for faster training as computations can be parallelized across the batch."
   ]
  },
  {
   "cell_type": "code",
   "execution_count": 9,
   "id": "9505fe72-233b-48fd-87fa-6e53f17f5a6a",
   "metadata": {},
   "outputs": [
    {
     "data": {
      "text/plain": [
       "<BatchDataset element_spec=TensorSpec(shape=(None, 28, 28, 1), dtype=tf.uint8, name=None)>"
      ]
     },
     "execution_count": 9,
     "metadata": {},
     "output_type": "execute_result"
    }
   ],
   "source": [
    "BUFFER_SIZE = 60000\n",
    "BATCH_SIZE = 256\n",
    "# Batch and shuffle the data\n",
    "train_dataset = tf.data.Dataset.from_tensor_slices(train_images).shuffle(BUFFER_SIZE).batch(BATCH_SIZE)\n",
    "train_dataset"
   ]
  },
  {
   "cell_type": "markdown",
   "id": "afc46206-6e72-42c1-bf09-523b543b0a76",
   "metadata": {},
   "source": [
    "tf.data.Dataset.from_tensor_slices(train_images): \n",
    ">This creates a TensorFlow dataset from the train_images data. The train_images variable is a tensor/array containing the training data. Each element of train_images is treated as a separate sample along the first dimension.\n",
    "\n",
    ".shuffle(BUFFER_SIZE): \n",
    "> This shuffles the elements of the dataset with a buffer size of BUFFER_SIZE. Shuffling the dataset is important during training to prevent the model from learning spurious correlations due to the order of the training data. The BUFFER_SIZE parameter determines the number of elements from which the dataset is shuffled at once. A larger buffer size allows for more effective shuffling but requires more memory.\n",
    "\n",
    ".batch(BATCH_SIZE): \n",
    "> This groups the elements of the dataset into batches of size BATCH_SIZE. Batching is done to improve computational efficiency by processing multiple samples in parallel. The BATCH_SIZE parameter specifies the number of elements in each batch."
   ]
  },
  {
   "cell_type": "code",
   "execution_count": null,
   "id": "4a822437-0982-43ad-8cd3-a52d8d5d0694",
   "metadata": {},
   "outputs": [],
   "source": []
  },
  {
   "cell_type": "markdown",
   "id": "37d8608f-3ed9-491d-aa6c-28d861af90f5",
   "metadata": {},
   "source": [
    "### Create the models"
   ]
  },
  {
   "cell_type": "markdown",
   "id": "f153365d-77a9-40d1-ab67-f1d746d7f440",
   "metadata": {},
   "source": [
    "#### The Generator"
   ]
  },
  {
   "cell_type": "code",
   "execution_count": null,
   "id": "61c90d31-6108-430d-a590-c6142bcb319f",
   "metadata": {},
   "outputs": [],
   "source": []
  },
  {
   "cell_type": "code",
   "execution_count": 10,
   "id": "0130c9d5-0ada-4f3a-aa02-e4e18a2e2f31",
   "metadata": {},
   "outputs": [],
   "source": [
    "def make_generator_model():\n",
    "    ###--- Model Creation ---###\n",
    "    model = tf.keras.Sequential()\n",
    "    # This initializes a sequential model, which is a linear stack of layers.\n",
    "    model.add(layers.Dense(7*7*256, use_bias=False, input_shape=(100,)))\n",
    "    # This adds a dense (fully connected) layer to the model with 7*7*256 neurons (flattened to a 2D array).\n",
    "    #-- The input shape for this layer is (100,), indicating that it takes a 100-dimensional input vector.\n",
    "    #-- This likely receives a 100-dimensional noise vector as input.\n",
    "    #--- The 'use_bias=False' argument skips adding a bias term which can improve performance in certain GAN scenarios.\n",
    "    model.add(layers.BatchNormalization())\n",
    "    # This adds a batch normalization layer. \n",
    "    #- Batch normalization normalizes the activations of the previous layer at each batch, helping the training process.\n",
    "    #-- improving training stability.\n",
    "    model.add(layers.LeakyReLU())\n",
    "    # This adds a Leaky ReLU activation function.\n",
    "    #- allows a small, non-zero gradient when the unit is not active, which helps prevent the \"dying ReLU\" problem.\n",
    "    #-- allowing small non-zero gradients even for negative inputs.\n",
    "    model.add(layers.Reshape((7, 7, 256)))\n",
    "    # This reshapes the output of the previous layer into a 3D tensor with shape (7, 7, 256).\n",
    "    #- likely representing a feature map.\n",
    "    assert model.output_shape == (None, 7, 7, 256)  # Note: None is the batch size\n",
    "    # This assertion checks if the shape of the output tensor is as expected.\n",
    "    \n",
    "    ###--- Deconvolutional layers ---###\n",
    "    model.add(layers.Conv2DTranspose(128, (5, 5), strides=(1, 1), padding='same', use_bias=False))\n",
    "    # Conv2DTranspose - essentially deconvolutional (transposed convolutional) layers that upsample the spatial dimensions of the feature map.\n",
    "    #-  with 128 filters, a kernel size of (5, 5), and a stride of (1, 1). \n",
    "    #-- The padding is set to 'same': ensures the output size remains the same after convolution.\n",
    "    #--- bias usage is set to False.\n",
    "    assert model.output_shape == (None, 7, 7, 128)\n",
    "    # checks the shape of the output tensor after adding the convolutional layer.\n",
    "    model.add(layers.BatchNormalization())\n",
    "    # Adds another batch normalization layer.\n",
    "    model.add(layers.LeakyReLU())\n",
    "    # Leaky ReLU continues to be used as the activation function.\n",
    "\n",
    "    model.add(layers.Conv2DTranspose(64, (5, 5), strides=(2, 2), padding='same', use_bias=False))\n",
    "    # Conv2DTranspose - essentially deconvolutional (transposed convolutional) layers that upsample the spatial dimensions of the feature map.\n",
    "    #-  with 64 filters, a kernel size of (5, 5), and a stride of (2, 2). \n",
    "    assert model.output_shape == (None, 14, 14, 64)\n",
    "    model.add(layers.BatchNormalization())\n",
    "    # Adds another batch normalization layer.\n",
    "    model.add(layers.LeakyReLU())\n",
    "    # Leaky ReLU continues to be used as the activation function.\n",
    "\n",
    "    ###--- Final layer ---###\n",
    "    model.add(layers.Conv2DTranspose(1, (5, 5), strides=(2, 2), padding='same', use_bias=False, activation='tanh'))\n",
    "    # adds a transposed convolutional layer with a single filter (as the output should be grayscale),\n",
    "    #- a kernel size of (5, 5), a stride of (2, 2) for upsampling and 'tanh' activation function.\n",
    "    #-- Tanh is used to ensure the output values are in the range [-1, 1], suitable for image pixel values.\n",
    "    assert model.output_shape == (None, 28, 28, 1)\n",
    "    # checks the final shape of the output tensor, ensuring it has the desired dimensions for a 28x28 grayscale image.\n",
    "\n",
    "    return model"
   ]
  },
  {
   "cell_type": "markdown",
   "id": "a8c3184d-01b0-4610-abf1-be9a0bf95bdd",
   "metadata": {},
   "source": [
    "This generator model takes a 100-dimensional noise vector as input and generates a 28x28 grayscale image as output. It gradually upsamples the input noise through transposed convolutional layers (deconvolutional layers), batch normalization, and activation functions to produce an image that resembles the training data."
   ]
  },
  {
   "cell_type": "code",
   "execution_count": null,
   "id": "82191dd1-7d91-4392-bdae-613d09aebffc",
   "metadata": {},
   "outputs": [],
   "source": []
  },
  {
   "cell_type": "code",
   "execution_count": 11,
   "id": "fccab620-bda9-4840-9d8b-f66aca4f6b10",
   "metadata": {},
   "outputs": [
    {
     "data": {
      "text/plain": [
       "<matplotlib.image.AxesImage at 0x1c80267f580>"
      ]
     },
     "execution_count": 11,
     "metadata": {},
     "output_type": "execute_result"
    },
    {
     "data": {
      "image/png": "[encoded data removed]",
      "text/plain": [
       "<Figure size 640x480 with 1 Axes>"
      ]
     },
     "metadata": {},
     "output_type": "display_data"
    }
   ],
   "source": [
    "generator = make_generator_model()\n",
    "\n",
    "noise = tf.random.normal([1, 100])\n",
    "# It generates 100 random numbers using the normal distribution (mean=0, standard deviation=1).\n",
    "#- These numbers are then placed in a single array (tensor) with a shape of [1, 100].\n",
    "generated_image = generator(noise, training=False)\n",
    "\n",
    "plt.imshow(generated_image[0, :, :, 0], cmap='gray')\n",
    "# Display the image"
   ]
  },
  {
   "cell_type": "code",
   "execution_count": null,
   "id": "0eb6ad8d-eca7-4fc5-914f-f9b108a6399f",
   "metadata": {},
   "outputs": [],
   "source": []
  },
  {
   "cell_type": "markdown",
   "id": "7d946eeb-47b8-4d50-b750-f47da36df2a8",
   "metadata": {},
   "source": [
    "#### The Discriminator"
   ]
  },
  {
   "cell_type": "code",
   "execution_count": null,
   "id": "06d8b8a9-9569-4717-a7c3-7a2c5220de80",
   "metadata": {},
   "outputs": [],
   "source": []
  },
  {
   "cell_type": "code",
   "execution_count": 12,
   "id": "9c0002f0-f77c-453c-ab91-0133360aa64f",
   "metadata": {},
   "outputs": [],
   "source": [
    "def make_discriminator_model():\n",
    "    model = tf.keras.Sequential()\n",
    "    model.add(layers.Conv2D(64, (5, 5), strides=(2, 2), padding='same',\n",
    "                                     input_shape=[28, 28, 1]))\n",
    "    model.add(layers.LeakyReLU())\n",
    "    model.add(layers.Dropout(0.3))\n",
    "\n",
    "    model.add(layers.Conv2D(128, (5, 5), strides=(2, 2), padding='same'))\n",
    "    model.add(layers.LeakyReLU())\n",
    "    model.add(layers.Dropout(0.3))\n",
    "\n",
    "    model.add(layers.Flatten())\n",
    "    model.add(layers.Dense(1))\n",
    "\n",
    "    return model"
   ]
  },
  {
   "cell_type": "code",
   "execution_count": null,
   "id": "d166e042-e4fc-459a-bbd8-c88c1cc0965d",
   "metadata": {},
   "outputs": [],
   "source": []
  },
  {
   "cell_type": "code",
   "execution_count": 13,
   "id": "1c94243b-299b-4475-b73e-18a760f13802",
   "metadata": {},
   "outputs": [
    {
     "name": "stdout",
     "output_type": "stream",
     "text": [
      "tf.Tensor([[-0.00535698]], shape=(1, 1), dtype=float32)\n"
     ]
    }
   ],
   "source": [
    "discriminator = make_discriminator_model()\n",
    "decision = discriminator(generated_image)\n",
    "print (decision)"
   ]
  },
  {
   "cell_type": "code",
   "execution_count": null,
   "id": "62c9ee40-8657-4332-b5de-1c1e75ed7336",
   "metadata": {},
   "outputs": [],
   "source": []
  },
  {
   "cell_type": "markdown",
   "id": "aad9a198-0526-470c-a064-561268fce06c",
   "metadata": {},
   "source": [
    "#### Define the loss and optimizers"
   ]
  },
  {
   "cell_type": "markdown",
   "id": "bfbd8067-ef85-4934-88cb-85f0291d5c50",
   "metadata": {},
   "source": [
    "Define loss functions and optimizers for both models."
   ]
  },
  {
   "cell_type": "code",
   "execution_count": 14,
   "id": "63b6d249-a8c1-4600-9854-4b9881359d39",
   "metadata": {},
   "outputs": [],
   "source": [
    "# This method returns a helper function to compute cross entropy loss\n",
    "cross_entropy = tf.keras.losses.BinaryCrossentropy(from_logits=True)"
   ]
  },
  {
   "cell_type": "code",
   "execution_count": null,
   "id": "782329b1-d4ad-4d54-a321-3700ba50574f",
   "metadata": {},
   "outputs": [],
   "source": []
  },
  {
   "cell_type": "code",
   "execution_count": null,
   "id": "7b5a9441-2cee-4fdc-8fe1-96249d55dec1",
   "metadata": {},
   "outputs": [],
   "source": []
  },
  {
   "cell_type": "markdown",
   "id": "ad2a1258-f69b-4536-86b5-1efb7f1407cb",
   "metadata": {},
   "source": [
    "Discriminator loss"
   ]
  },
  {
   "cell_type": "code",
   "execution_count": 15,
   "id": "50d04375-2255-424c-b620-c0a8449110fc",
   "metadata": {},
   "outputs": [],
   "source": [
    "def discriminator_loss(real_output, fake_output):\n",
    "    real_loss = cross_entropy(tf.ones_like(real_output), real_output)\n",
    "    fake_loss = cross_entropy(tf.zeros_like(fake_output), fake_output)\n",
    "    total_loss = real_loss + fake_loss\n",
    "    return total_loss"
   ]
  },
  {
   "cell_type": "code",
   "execution_count": null,
   "id": "a80972d2-0c96-4a43-a62f-2987e274b0b8",
   "metadata": {},
   "outputs": [],
   "source": []
  },
  {
   "cell_type": "code",
   "execution_count": null,
   "id": "c10b3185-a155-4a29-b0a3-6245c376de47",
   "metadata": {},
   "outputs": [],
   "source": []
  },
  {
   "cell_type": "markdown",
   "id": "b70abc7e-a847-4ee7-a7ef-1c1ec5d21a21",
   "metadata": {},
   "source": [
    "Generator loss"
   ]
  },
  {
   "cell_type": "code",
   "execution_count": null,
   "id": "80c95870-a401-4c4b-a111-3f39b6dfd315",
   "metadata": {},
   "outputs": [],
   "source": []
  },
  {
   "cell_type": "code",
   "execution_count": 16,
   "id": "5fbfa52c-459e-4e69-8cd4-c23265d1c817",
   "metadata": {},
   "outputs": [],
   "source": [
    "def generator_loss(fake_output):\n",
    "    return cross_entropy(tf.ones_like(fake_output), fake_output)"
   ]
  },
  {
   "cell_type": "code",
   "execution_count": null,
   "id": "01c05830-587f-465f-ace1-9a19536bbf7b",
   "metadata": {},
   "outputs": [],
   "source": []
  },
  {
   "cell_type": "code",
   "execution_count": 17,
   "id": "3e1256e4-08dd-4355-b073-8c17085c9d0f",
   "metadata": {},
   "outputs": [],
   "source": [
    "#The discriminator and the generator optimizers are different since you will train two networks separately.\n",
    "generator_optimizer = tf.keras.optimizers.Adam(1e-4)\n",
    "discriminator_optimizer = tf.keras.optimizers.Adam(1e-4)"
   ]
  },
  {
   "cell_type": "code",
   "execution_count": null,
   "id": "b054c4d1-ee3e-4eaf-8946-cca225d06871",
   "metadata": {},
   "outputs": [],
   "source": []
  },
  {
   "cell_type": "code",
   "execution_count": 18,
   "id": "0e83468b-f920-4164-9fcd-d02c5ddc9ab6",
   "metadata": {},
   "outputs": [],
   "source": [
    "# Save checkpoints\n",
    "checkpoint_dir = './training_checkpoints'\n",
    "checkpoint_prefix = os.path.join(checkpoint_dir, \"ckpt\")\n",
    "checkpoint = tf.train.Checkpoint(generator_optimizer=generator_optimizer,\n",
    "                                 discriminator_optimizer=discriminator_optimizer,\n",
    "                                 generator=generator,\n",
    "                                 discriminator=discriminator)"
   ]
  },
  {
   "cell_type": "code",
   "execution_count": null,
   "id": "bff727b2-e046-4544-9116-7cf4259d50c5",
   "metadata": {},
   "outputs": [],
   "source": []
  },
  {
   "cell_type": "code",
   "execution_count": null,
   "id": "bd9fa26f-0ee3-4253-9393-1a087daf6f93",
   "metadata": {},
   "outputs": [],
   "source": []
  },
  {
   "cell_type": "markdown",
   "id": "e243e186-d3de-487c-ad79-f60c5e2c2ed0",
   "metadata": {},
   "source": [
    "#### Define the training loop"
   ]
  },
  {
   "cell_type": "code",
   "execution_count": 24,
   "id": "051b51cf-cffd-46b9-b859-b2d3baf812e4",
   "metadata": {},
   "outputs": [],
   "source": [
    "EPOCHS = 10\n",
    "noise_dim = 100\n",
    "num_examples_to_generate = 16\n",
    "\n",
    "# You will reuse this seed overtime (so it's easier)\n",
    "# to visualize progress in the animated GIF)\n",
    "seed = tf.random.normal([num_examples_to_generate, noise_dim])"
   ]
  },
  {
   "cell_type": "code",
   "execution_count": null,
   "id": "fcbefc5d-ebd8-44c8-88f0-5de62c57cc59",
   "metadata": {},
   "outputs": [],
   "source": []
  },
  {
   "cell_type": "code",
   "execution_count": 25,
   "id": "f2888e6f-a07f-444d-aecc-1d92d8606d5d",
   "metadata": {},
   "outputs": [],
   "source": [
    "# Notice the use of `tf.function`\n",
    "# This annotation causes the function to be \"compiled\".\n",
    "@tf.function\n",
    "def train_step(images):\n",
    "    noise = tf.random.normal([BATCH_SIZE, noise_dim])\n",
    "\n",
    "    with tf.GradientTape() as gen_tape, tf.GradientTape() as disc_tape:\n",
    "      generated_images = generator(noise, training=True)\n",
    "\n",
    "      real_output = discriminator(images, training=True)\n",
    "      fake_output = discriminator(generated_images, training=True)\n",
    "\n",
    "      gen_loss = generator_loss(fake_output)\n",
    "      disc_loss = discriminator_loss(real_output, fake_output)\n",
    "\n",
    "    gradients_of_generator = gen_tape.gradient(gen_loss, generator.trainable_variables)\n",
    "    gradients_of_discriminator = disc_tape.gradient(disc_loss, discriminator.trainable_variables)\n",
    "\n",
    "    generator_optimizer.apply_gradients(zip(gradients_of_generator, generator.trainable_variables))\n",
    "    discriminator_optimizer.apply_gradients(zip(gradients_of_discriminator, discriminator.trainable_variables))"
   ]
  },
  {
   "cell_type": "code",
   "execution_count": null,
   "id": "2897ffd8-304d-4c6c-a301-515972e719b3",
   "metadata": {},
   "outputs": [],
   "source": []
  },
  {
   "cell_type": "code",
   "execution_count": 26,
   "id": "0b947fc5-34ab-4f3a-89e1-1a96df1b339d",
   "metadata": {},
   "outputs": [],
   "source": [
    "def train(dataset, epochs):\n",
    "  for epoch in range(epochs):\n",
    "    start = time.time()\n",
    "\n",
    "    for image_batch in dataset:\n",
    "      train_step(image_batch)\n",
    "\n",
    "    # Produce images for the GIF as you go\n",
    "    display.clear_output(wait=True)\n",
    "    generate_and_save_images(generator,\n",
    "                             epoch + 1,\n",
    "                             seed)\n",
    "\n",
    "    # Save the model every 15 epochs\n",
    "    if (epoch + 1) % 15 == 0:\n",
    "      checkpoint.save(file_prefix = checkpoint_prefix)\n",
    "\n",
    "    print ('Time for epoch {} is {} sec'.format(epoch + 1, time.time()-start))\n",
    "\n",
    "  # Generate after the final epoch\n",
    "  display.clear_output(wait=True)\n",
    "  generate_and_save_images(generator,\n",
    "                           epochs,\n",
    "                           seed)"
   ]
  },
  {
   "cell_type": "code",
   "execution_count": null,
   "id": "38ff5918-bc45-4d09-be1e-4c87244e2c6a",
   "metadata": {},
   "outputs": [],
   "source": []
  },
  {
   "cell_type": "code",
   "execution_count": null,
   "id": "8a2739b8-995b-4e2b-a958-be73b98d2e65",
   "metadata": {},
   "outputs": [],
   "source": []
  },
  {
   "cell_type": "markdown",
   "id": "430631e2-5715-4ad3-868d-b9578e37ec26",
   "metadata": {},
   "source": [
    "Generate and save images"
   ]
  },
  {
   "cell_type": "code",
   "execution_count": 27,
   "id": "c2e8dca9-b3c3-474e-b77b-ec4f902e62b7",
   "metadata": {},
   "outputs": [],
   "source": [
    "def generate_and_save_images(model, epoch, test_input):\n",
    "  # Notice `training` is set to False.\n",
    "  # This is so all layers run in inference mode (batchnorm).\n",
    "  predictions = model(test_input, training=False)\n",
    "\n",
    "  fig = plt.figure(figsize=(4, 4))\n",
    "\n",
    "  for i in range(predictions.shape[0]):\n",
    "      plt.subplot(4, 4, i+1)\n",
    "      plt.imshow(predictions[i, :, :, 0] * 127.5 + 127.5, cmap='gray')\n",
    "      plt.axis('off')\n",
    "\n",
    "  plt.savefig('image_at_epoch_{:04d}.png'.format(epoch))\n",
    "  plt.show()"
   ]
  },
  {
   "cell_type": "code",
   "execution_count": null,
   "id": "e4798870-a547-4172-b45f-ce258a7e1043",
   "metadata": {},
   "outputs": [],
   "source": []
  },
  {
   "cell_type": "code",
   "execution_count": null,
   "id": "c2ce5b2b-1806-43c5-abaa-87f1cae9b08f",
   "metadata": {},
   "outputs": [],
   "source": []
  },
  {
   "cell_type": "markdown",
   "id": "aeebd37b-e3af-478e-b526-b52be16ab545",
   "metadata": {},
   "source": [
    "#### Train the model"
   ]
  },
  {
   "cell_type": "code",
   "execution_count": null,
   "id": "2817c7eb-5653-46bc-863a-7cb3f35ea1d0",
   "metadata": {},
   "outputs": [],
   "source": []
  },
  {
   "cell_type": "code",
   "execution_count": 28,
   "id": "3b63eb14-e3f8-4455-9299-296f71c5b52c",
   "metadata": {},
   "outputs": [
    {
     "data": {
      "image/png": "[encoded data removed]",
      "text/plain": [
       "<Figure size 400x400 with 16 Axes>"
      ]
     },
     "metadata": {},
     "output_type": "display_data"
    }
   ],
   "source": [
    "train(train_dataset, EPOCHS)"
   ]
  },
  {
   "cell_type": "code",
   "execution_count": null,
   "id": "63d6f8fd-6404-4512-b547-3d8bdf205966",
   "metadata": {},
   "outputs": [],
   "source": []
  },
  {
   "cell_type": "code",
   "execution_count": null,
   "id": "c8cbd2a2-a87c-4364-8b55-9ee3d52df871",
   "metadata": {},
   "outputs": [],
   "source": []
  }
 ],
 "metadata": {
  "kernelspec": {
   "display_name": "Python 3 (ipykernel)",
   "language": "python",
   "name": "python3"
  },
  "language_info": {
   "codemirror_mode": {
    "name": "ipython",
    "version": 3
   },
   "file_extension": ".py",
   "mimetype": "text/x-python",
   "name": "python",
   "nbconvert_exporter": "python",
   "pygments_lexer": "ipython3",
   "version": "3.9.19"
  }
 },
 "nbformat": 4,
 "nbformat_minor": 5
}
